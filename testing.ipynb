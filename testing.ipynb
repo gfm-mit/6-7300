{
 "cells": [
  {
   "cell_type": "code",
   "execution_count": 2,
   "id": "a6a0c023",
   "metadata": {},
   "outputs": [],
   "source": [
    "import numpy as np\n",
    "import pandas as pd"
   ]
  },
  {
   "cell_type": "code",
   "execution_count": 21,
   "id": "c37de1a0",
   "metadata": {},
   "outputs": [],
   "source": [
    "data = pd.read_csv('domain_specific/distances.csv', index_col=0).to_numpy()"
   ]
  },
  {
   "cell_type": "code",
   "execution_count": 24,
   "id": "ee34b116",
   "metadata": {},
   "outputs": [],
   "source": [
    "data = np.random.random((5,5))"
   ]
  },
  {
   "cell_type": "code",
   "execution_count": 32,
   "id": "8cfd6eaa",
   "metadata": {},
   "outputs": [],
   "source": [
    "d = np.exp(np.random.uniform(-1, 1, size=[5, 5]))\n",
    "d = (d + d.T)/2\n",
    "# d = d - np.diag(d)"
   ]
  },
  {
   "cell_type": "code",
   "execution_count": 39,
   "id": "4b9dc79d",
   "metadata": {},
   "outputs": [],
   "source": [
    "a = np.array([-1,2,3,4])"
   ]
  },
  {
   "cell_type": "code",
   "execution_count": 44,
   "id": "e06bd993",
   "metadata": {},
   "outputs": [
    {
     "data": {
      "text/plain": [
       "array([0, 2, 3, 4])"
      ]
     },
     "execution_count": 44,
     "metadata": {},
     "output_type": "execute_result"
    }
   ],
   "source": [
    "a[a<0]=0\n",
    "a"
   ]
  },
  {
   "cell_type": "code",
   "execution_count": 38,
   "id": "9119cce6",
   "metadata": {},
   "outputs": [
    {
     "data": {
      "text/plain": [
       "array([[1],\n",
       "       [2],\n",
       "       [3],\n",
       "       [4]])"
      ]
     },
     "execution_count": 38,
     "metadata": {},
     "output_type": "execute_result"
    }
   ],
   "source": [
    "a[:,None]"
   ]
  },
  {
   "cell_type": "code",
   "execution_count": null,
   "id": "9075fd4c",
   "metadata": {},
   "outputs": [],
   "source": []
  }
 ],
 "metadata": {
  "kernelspec": {
   "display_name": "Python 3 (ipykernel)",
   "language": "python",
   "name": "python3"
  },
  "language_info": {
   "codemirror_mode": {
    "name": "ipython",
    "version": 3
   },
   "file_extension": ".py",
   "mimetype": "text/x-python",
   "name": "python",
   "nbconvert_exporter": "python",
   "pygments_lexer": "ipython3",
   "version": "3.9.5"
  }
 },
 "nbformat": 4,
 "nbformat_minor": 5
}
