{
 "cells": [
  {
   "cell_type": "code",
   "execution_count": 2,
   "id": "479fafd1",
   "metadata": {},
   "outputs": [],
   "source": [
    "import numpy as np\n",
    "import pandas as pd"
   ]
  },
  {
   "cell_type": "code",
   "execution_count": 8,
   "id": "7e00cc89",
   "metadata": {},
   "outputs": [],
   "source": [
    "data = pd.read_csv('domain_specific/distances.csv', index_col=0)"
   ]
  },
  {
   "cell_type": "code",
   "execution_count": 11,
   "id": "eec4660e",
   "metadata": {},
   "outputs": [],
   "source": [
    "data.to_parquet('domain_specific/distances.parquet')"
   ]
  },
  {
   "cell_type": "code",
   "execution_count": 18,
   "id": "43f623ad",
   "metadata": {},
   "outputs": [
    {
     "data": {
      "text/plain": [
       "array([[0.        , 0.96304163, 1.2065043 , 1.1537336 , 0.6777589 ,\n",
       "        0.5430473 , 0.89828188, 1.41192297, 1.43524025, 0.99721514],\n",
       "       [0.96304163, 0.        , 0.89469461, 0.9856037 , 1.02921741,\n",
       "        0.82115548, 1.00759936, 1.13815727, 1.5       , 0.78641556],\n",
       "       [1.2065043 , 0.89469461, 0.        , 0.72146701, 1.35962428,\n",
       "        1.16496743, 1.33526857, 0.74346266, 1.10728783, 0.99778155],\n",
       "       [1.1537336 , 0.9856037 , 0.72146701, 0.        , 1.2306712 ,\n",
       "        1.11285755, 1.49301425, 0.76272066, 1.02855659, 1.19291041],\n",
       "       [0.6777589 , 1.02921741, 1.35962428, 1.2306712 , 0.        ,\n",
       "        0.711366  , 0.90073634, 1.47422826, 1.27286888, 1.12937789],\n",
       "       [0.5430473 , 0.82115548, 1.16496743, 1.11285755, 0.711366  ,\n",
       "        0.        , 0.93160578, 1.36934768, 1.44486925, 0.99476069],\n",
       "       [0.89828188, 1.00759936, 1.33526857, 1.49301425, 0.90073634,\n",
       "        0.93160578, 0.        , 1.46941376, 1.32469555, 0.83786463],\n",
       "       [1.41192297, 1.13815727, 0.74346266, 0.76272066, 1.47422826,\n",
       "        1.36934768, 1.46941376, 0.        , 0.86429718, 1.17752289],\n",
       "       [1.43524025, 1.5       , 1.10728783, 1.02855659, 1.27286888,\n",
       "        1.44486925, 1.32469555, 0.86429718, 0.        , 1.40673086],\n",
       "       [0.99721514, 0.78641556, 0.99778155, 1.19291041, 1.12937789,\n",
       "        0.99476069, 0.83786463, 1.17752289, 1.40673086, 0.        ]])"
      ]
     },
     "execution_count": 18,
     "metadata": {},
     "output_type": "execute_result"
    }
   ],
   "source": [
    "(0.5 + data/data.max().max()).to_numpy()-0.5 * np.eye(10)"
   ]
  },
  {
   "cell_type": "code",
   "execution_count": null,
   "id": "a55bab4b",
   "metadata": {},
   "outputs": [],
   "source": []
  }
 ],
 "metadata": {
  "kernelspec": {
   "display_name": "Python 3 (ipykernel)",
   "language": "python",
   "name": "python3"
  },
  "language_info": {
   "codemirror_mode": {
    "name": "ipython",
    "version": 3
   },
   "file_extension": ".py",
   "mimetype": "text/x-python",
   "name": "python",
   "nbconvert_exporter": "python",
   "pygments_lexer": "ipython3",
   "version": "3.9.5"
  }
 },
 "nbformat": 4,
 "nbformat_minor": 5
}
